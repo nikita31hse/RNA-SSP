{
  "nbformat": 4,
  "nbformat_minor": 0,
  "metadata": {
    "colab": {
      "name": "RNA SSP.ipynb",
      "provenance": []
    },
    "kernelspec": {
      "name": "python3",
      "display_name": "Python 3"
    },
    "language_info": {
      "name": "python"
    }
  },
  "cells": [
    {
      "cell_type": "markdown",
      "metadata": {
        "id": "wFwnkPYmUXUD"
      },
      "source": [
        "### RNA Secondary Structure Prediction"
      ]
    },
    {
      "cell_type": "markdown",
      "metadata": {
        "id": "YdMR8PmYUdpA"
      },
      "source": [
        "Loading data "
      ]
    },
    {
      "cell_type": "code",
      "metadata": {
        "id": "OwvyOPjFUcDk"
      },
      "source": [
        ""
      ],
      "execution_count": null,
      "outputs": []
    }
  ]
}